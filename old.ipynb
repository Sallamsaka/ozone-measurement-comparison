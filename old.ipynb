{
 "cells": [
  {
   "cell_type": "code",
   "execution_count": 55,
   "id": "ff281bcf",
   "metadata": {},
   "outputs": [],
   "source": [
    "import numpy as np\n",
    "import xarray as xr\n",
    "import dask.array as da\n",
    "from dask.distributed import Client, LocalCluster\n",
    "import gc\n",
    "import sys\n",
    "from matplotlib import pyplot as plt"
   ]
  },
  {
   "cell_type": "code",
   "execution_count": 56,
   "id": "1450e24c",
   "metadata": {},
   "outputs": [],
   "source": [
    "EARTH_RADIUS_KM = 6371.0\n",
    "MAX_DIST_KM = 500\n",
    "TIME_TOL_HOURS = 2\n",
    "ALT_MIN, ALT_MAX = 0.5, 64.5\n",
    "ALT_GRID = np.arange(ALT_MIN, ALT_MAX + 1, dtype=np.float32)\n",
    "CHORDAL_DIST = 2 * np.sin(MAX_DIST_KM / (2 * EARTH_RADIUS_KM))\n",
    "TIME_TOL = np.timedelta64(TIME_TOL_HOURS, 'h').astype('timedelta64[ns]')\n",
    "\n",
    "CHUNK_SIZE_L = 50000\n",
    "CHUNK_SIZE_S = 25000\n",
    "CHUNK_SIZE_S_PROCESS = 2000\n",
    "BATCH_SIZE = 10000"
   ]
  },
  {
   "cell_type": "code",
   "execution_count": 57,
   "id": "70d4e631",
   "metadata": {},
   "outputs": [],
   "source": [
    "def process_dataarray(da_o3):\n",
    "    da_transposed = da_o3.transpose('time', 'altitude')\n",
    "    \n",
    "    n_time = da_transposed.sizes['time']\n",
    "    n_alt = da_transposed.sizes['altitude']\n",
    "    \n",
    "    time_chunks = CHUNK_SIZE_L if n_time > 500000 else CHUNK_SIZE_S\n",
    "    alt_chunks = min(32, n_alt)\n",
    "    \n",
    "    if isinstance(da_transposed.data, da.Array):\n",
    "        da_transposed = da_transposed.chunk({'time': time_chunks, 'altitude': alt_chunks})\n",
    "    else:\n",
    "        da_transposed.data = da.from_array(da_transposed.data, \n",
    "                                          chunks=(time_chunks, alt_chunks))\n",
    "    \n",
    "    return da_transposed\n",
    "\n",
    "def compute_diffs(o3L, o3S):\n",
    "    \"\"\"Vectorized relative, absolute and raw difference computation\"\"\"\n",
    "    sum_vals = o3L + o3S\n",
    "    diff_vals = o3L - o3S\n",
    "    return 200 * (diff_vals / sum_vals), np.abs(diff_vals), diff_vals\n",
    "\n",
    "def haversine_vectorized(lat1, lon1, lat2, lon2):\n",
    "    \"\"\"Vectorized Haversine distance calculation between points (in radians)\"\"\"\n",
    "    lat1 = np.deg2rad(lat1)\n",
    "    lon1 = np.deg2rad(lon1)\n",
    "    lat2 = np.deg2rad(lat2)\n",
    "    lon2 = np.deg2rad(lon2)\n",
    "    dlat = lat2 - lat1\n",
    "    dlon = lon2 - lon1\n",
    "    a = np.sin(dlat/2)**2 + np.cos(lat1) * np.cos(lat2) * np.sin(dlon/2)**2\n",
    "    c = 2 * np.arcsin(np.sqrt(a))\n",
    "    return EARTH_RADIUS_KM * c"
   ]
  },
  {
   "cell_type": "code",
   "execution_count": 58,
   "id": "102f7f22",
   "metadata": {},
   "outputs": [],
   "source": [
    "sys.path.extend([\n",
    "    r\"C:\\Users\\salla\\Onedrive(uoft acc)\\OneDrive - University of Toronto\\Desktop\\School Information\\NSERC\\OSIRIS\",\n",
    "    r\"C:\\Users\\salla\\Onedrive(uoft acc)\\OneDrive - University of Toronto\\Desktop\\School Information\\NSERC\\ACEFTS\"\n",
    "])\n",
    "\n",
    "import OSIRIS_helper as OSIRIS\n",
    "import ACEFTS_helper as ACE"
   ]
  },
  {
   "cell_type": "code",
   "execution_count": 59,
   "id": "05abf7d9",
   "metadata": {},
   "outputs": [],
   "source": [
    "daL = OSIRIS.get_vmr()\n",
    "daS = ACE.get_vmr()"
   ]
  },
  {
   "cell_type": "code",
   "execution_count": 60,
   "id": "8b8c4de6",
   "metadata": {},
   "outputs": [],
   "source": [
    "daL = daL.sel(altitude=slice(ALT_MIN, ALT_MAX)).interp({\"altitude\": ALT_GRID})\n",
    "daS = daS.sel(altitude=slice(ALT_MIN, ALT_MAX)).interp({\"altitude\": ALT_GRID})\n",
    "\n",
    "daL = process_dataarray(daL)\n",
    "daS = process_dataarray(daS)\n",
    "\n",
    "assert np.array_equal(daL.altitude.values, ALT_GRID), \"OSIRIS alt mismatch!\"\n",
    "assert np.array_equal(daS.altitude.values, ALT_GRID), \"ACE-FTS alt mismatch!\""
   ]
  },
  {
   "cell_type": "code",
   "execution_count": 61,
   "id": "bd5348c9",
   "metadata": {},
   "outputs": [
    {
     "name": "stderr",
     "output_type": "stream",
     "text": [
      "C:\\Users\\salla\\AppData\\Roaming\\Python\\Python312\\site-packages\\distributed\\node.py:187: UserWarning: Port 8787 is already in use.\n",
      "Perhaps you already have a cluster running?\n",
      "Hosting the HTTP server on port 57339 instead\n",
      "  warnings.warn(\n"
     ]
    }
   ],
   "source": [
    "cluster = LocalCluster(\n",
    "    n_workers=2,\n",
    "    threads_per_worker=2,\n",
    "    memory_limit='3GB',\n",
    "    processes=False,\n",
    "    dashboard_address=None\n",
    ")\n",
    "client = Client(cluster)\n"
   ]
  },
  {
   "cell_type": "code",
   "execution_count": 62,
   "id": "282fa80b",
   "metadata": {},
   "outputs": [
    {
     "name": "stderr",
     "output_type": "stream",
     "text": [
      "C:\\Users\\salla\\AppData\\Roaming\\Python\\Python312\\site-packages\\distributed\\client.py:3363: UserWarning: Sending large graph of size 65.50 MiB.\n",
      "This may cause some slowdown.\n",
      "Consider loading the data with Dask directly\n",
      " or using futures or delayed objects to embed the data into the graph without repetition.\n",
      "See also https://docs.dask.org/en/stable/best-practices.html#load-data-with-dask for more information.\n",
      "  warnings.warn(\n"
     ]
    },
    {
     "data": {
      "text/plain": [
       "28286"
      ]
     },
     "execution_count": 62,
     "metadata": {},
     "output_type": "execute_result"
    }
   ],
   "source": [
    "o3L_arr = daL.values.astype(np.float32)\n",
    "o3S_arr = daS.values.astype(np.float32)\n",
    "tL = daL.time.values.astype('datetime64[ns]')\n",
    "tS = daS.time.values.astype('datetime64[ns]')\n",
    "latL = daL.latitude.values\n",
    "lonL = daL.longitude.values\n",
    "latS = daS.latitude.values\n",
    "lonS = daS.longitude.values\n",
    "\n",
    "tS_min = tS.min() - TIME_TOL\n",
    "tS_max = tS.max() + TIME_TOL\n",
    "time_mask = (tL >= tS_min) & (tL <= tS_max)\n",
    "tL_filtered = tL[time_mask]\n",
    "o3L_arr_filtered = o3L_arr[time_mask]\n",
    "latL_filtered = latL[time_mask]\n",
    "lonL_filtered = lonL[time_mask]\n",
    "\n",
    "client.close()\n",
    "cluster.close()\n",
    "del o3L_arr, latL, lonL\n",
    "gc.collect()"
   ]
  },
  {
   "cell_type": "code",
   "execution_count": 72,
   "id": "999457fb",
   "metadata": {},
   "outputs": [
    {
     "name": "stdout",
     "output_type": "stream",
     "text": [
      "Processing ACE-FTS point 0/132071...\n",
      "Processing ACE-FTS point 10000/132071...\n",
      "Found 1000 pairs at ACE point 14359...\n",
      "Processing ACE-FTS point 20000/132071...\n",
      "Found 2000 pairs at ACE point 23709...\n",
      "Processing ACE-FTS point 30000/132071...\n",
      "Found 3000 pairs at ACE point 30832...\n",
      "Processing ACE-FTS point 40000/132071...\n",
      "Found 4000 pairs at ACE point 42460...\n",
      "Processing ACE-FTS point 50000/132071...\n",
      "Found 5000 pairs at ACE point 57074...\n",
      "Processing ACE-FTS point 60000/132071...\n",
      "Processing ACE-FTS point 70000/132071...\n",
      "Processing ACE-FTS point 80000/132071...\n",
      "Found 6000 pairs at ACE point 89659...\n",
      "Processing ACE-FTS point 90000/132071...\n",
      "Processing ACE-FTS point 100000/132071...\n",
      "Processing ACE-FTS point 110000/132071...\n",
      "Processing ACE-FTS point 120000/132071...\n",
      "Processing ACE-FTS point 130000/132071...\n",
      "Total coincidences found: 6675\n"
     ]
    }
   ],
   "source": [
    "tL_ns = tL_filtered.astype(np.int64)\n",
    "tS_ns = tS.astype(np.int64)\n",
    "TIME_TOL_ns = TIME_TOL.astype(np.int64)\n",
    "n_alt = len(ALT_GRID)\n",
    "\n",
    "MAX_DIST_RAD = MAX_DIST_KM / EARTH_RADIUS_KM\n",
    "\n",
    "processed_pairs = 0\n",
    "stats = {dtype: {'sum': np.zeros(n_alt), 'sum_sq': np.zeros(n_alt), 'count': np.zeros(n_alt)} \n",
    "         for dtype in ['rel', 'abs', 'raw']}\n",
    "\n",
    "time_bins = np.arange(tL_ns.min(), tL_ns.max() + 1, TIME_TOL_ns)\n",
    "bin_indices = np.digitize(tL_ns, time_bins)\n",
    "time_binned = {bin_id: [] for bin_id in range(len(time_bins)+1)}\n",
    "for idx, bin_id in enumerate(bin_indices):\n",
    "    time_binned[bin_id].append(idx)\n",
    "\n",
    "for s_idx in range(len(tS)):\n",
    "    if s_idx % 10000 == 0:\n",
    "        print(f\"Processing ACE-FTS point {s_idx}/{len(tS)}...\")\n",
    "    \n",
    "    s_time = tS_ns[s_idx]\n",
    "    s_lat = latS[s_idx]\n",
    "    s_lon = lonS[s_idx]\n",
    "    \n",
    "    min_time = s_time - TIME_TOL_ns\n",
    "    max_time = s_time + TIME_TOL_ns\n",
    "    min_bin = np.digitize(min_time, time_bins)\n",
    "    max_bin = np.digitize(max_time, time_bins) + 1\n",
    "    \n",
    "    best_dist = float('inf')\n",
    "    best_L_idx = None\n",
    "    \n",
    "    for bin_id in range(min_bin, max_bin):\n",
    "        if bin_id not in time_binned or not time_binned[bin_id]:\n",
    "            continue\n",
    "            \n",
    "        for L_idx in time_binned[bin_id]:\n",
    "            if abs(tL_ns[L_idx] - s_time) > TIME_TOL_ns:\n",
    "                continue\n",
    "                \n",
    "            L_lat = latL_filtered[L_idx]\n",
    "            L_lon = lonL_filtered[L_idx]\n",
    "            \n",
    "            dist = haversine_vectorized(s_lat, s_lon, L_lat, L_lon)\n",
    "            \n",
    "            if dist <= MAX_DIST_KM and dist < best_dist:\n",
    "                best_dist = dist\n",
    "                best_L_idx = L_idx\n",
    "    \n",
    "    if best_L_idx is not None:\n",
    "        o3L_val = o3L_arr_filtered[best_L_idx]\n",
    "        o3S_val = o3S_arr[s_idx]\n",
    "        \n",
    "        rel_diff, abs_diff, raw_diff = compute_diffs(\n",
    "            o3L_val, \n",
    "            o3S_val\n",
    "        )\n",
    "        \n",
    "        for dtype, diff_array in zip(['rel', 'abs', 'raw'], \n",
    "                                    [rel_diff, abs_diff, raw_diff]):\n",
    "            for alt_idx in range(n_alt):\n",
    "                val = diff_array[alt_idx]\n",
    "                if not np.isnan(val):\n",
    "                    stats[dtype]['sum'][alt_idx] += val\n",
    "                    stats[dtype]['sum_sq'][alt_idx] += val**2\n",
    "                    stats[dtype]['count'][alt_idx] += 1\n",
    "        \n",
    "        processed_pairs += 1\n",
    "        if processed_pairs % 1000 == 0:\n",
    "            print(f\"Found {processed_pairs} pairs at ACE point {s_idx}...\")\n",
    "\n",
    "print(f\"Total coincidences found: {processed_pairs}\")"
   ]
  },
  {
   "cell_type": "code",
   "execution_count": 70,
   "id": "9e127285",
   "metadata": {},
   "outputs": [
    {
     "name": "stderr",
     "output_type": "stream",
     "text": [
      "C:\\Users\\salla\\AppData\\Local\\Temp\\ipykernel_2720\\4220225895.py:1: RuntimeWarning: invalid value encountered in divide\n",
      "  plt.scatter(np.arange(len(stats[\"rel\"][\"sum\"] / stats[\"rel\"][\"count\"])), (stats[\"rel\"][\"sum\"] / stats[\"rel\"][\"count\"]))\n"
     ]
    },
    {
     "data": {
      "text/plain": [
       "[<matplotlib.lines.Line2D at 0x22c7677b710>]"
      ]
     },
     "execution_count": 70,
     "metadata": {},
     "output_type": "execute_result"
    },
    {
     "data": {
      "image/png": "[encoded data removed]",
      "text/plain": [
       "<Figure size 640x480 with 1 Axes>"
      ]
     },
     "metadata": {},
     "output_type": "display_data"
    }
   ],
   "source": [
    "plt.scatter(np.arange(len(stats[\"rel\"][\"sum\"] / stats[\"rel\"][\"count\"])), (stats[\"rel\"][\"sum\"] / stats[\"rel\"][\"count\"]))\n",
    "plt.plot([0,64.5],[0,0])"
   ]
  },
  {
   "cell_type": "code",
   "execution_count": null,
   "id": "c2d84c4b",
   "metadata": {},
   "outputs": [],
   "source": []
  }
 ],
 "metadata": {
  "kernelspec": {
   "display_name": "Python 3",
   "language": "python",
   "name": "python3"
  },
  "language_info": {
   "codemirror_mode": {
    "name": "ipython",
    "version": 3
   },
   "file_extension": ".py",
   "mimetype": "text/x-python",
   "name": "python",
   "nbconvert_exporter": "python",
   "pygments_lexer": "ipython3",
   "version": "3.12.5"
  }
 },
 "nbformat": 4,
 "nbformat_minor": 5
}
