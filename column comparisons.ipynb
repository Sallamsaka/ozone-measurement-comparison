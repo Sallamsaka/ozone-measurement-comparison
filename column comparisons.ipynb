{
 "cells": [
  {
   "cell_type": "code",
   "execution_count": 102,
   "id": "f9889af7",
   "metadata": {},
   "outputs": [],
   "source": [
    "import numpy as np\n",
    "import xarray as xr\n",
    "from scipy.spatial import cKDTree\n",
    "import dask.array as da\n",
    "from dask.distributed import Client, LocalCluster\n",
    "import gc\n",
    "import sys\n",
    "from matplotlib import pyplot as plt"
   ]
  },
  {
   "cell_type": "code",
   "execution_count": 103,
   "id": "adf048bb",
   "metadata": {},
   "outputs": [],
   "source": [
    "EARTH_RADIUS_KM = 6371.0\n",
    "MAX_DIST_KM = 500\n",
    "TIME_TOL_HOURS = 2\n",
    "ALT_MIN, ALT_MAX = 14.5, 49.5  # Updated range\n",
    "ALT_GRID = np.arange(ALT_MIN, ALT_MAX + 1, dtype=np.float32)\n",
    "CHORDAL_DIST = 2 * np.sin(MAX_DIST_KM / (2 * EARTH_RADIUS_KM))\n",
    "TIME_TOL = np.timedelta64(TIME_TOL_HOURS, 'h').astype('timedelta64[ns]')\n",
    "\n",
    "# Optimized chunk sizes\n",
    "CHUNK_SIZE_L = 50000\n",
    "CHUNK_SIZE_S = 25000\n",
    "CHUNK_SIZE_S_PROCESS = 2000\n",
    "BATCH_SIZE = 10000"
   ]
  },
  {
   "cell_type": "code",
   "execution_count": 104,
   "id": "d1a90594",
   "metadata": {},
   "outputs": [],
   "source": [
    "def wrap_o3_efficient(da_o3):\n",
    "    \"\"\"Efficient wrapping with optimized chunking\"\"\"\n",
    "    da_transposed = da_o3\n",
    "    \n",
    "    time_chunks = CHUNK_SIZE_L if da_transposed[\"time\"].size > 500000 else CHUNK_SIZE_S\n",
    "    \n",
    "    if isinstance(da_transposed.data, da.Array):\n",
    "        ozone_data = da_transposed.data.rechunk((time_chunks,))\n",
    "    else:\n",
    "        ozone_data = da.from_array(da_transposed.data, chunks=((time_chunks,)))\n",
    "    \n",
    "    return xr.Dataset(\n",
    "        {'ozone': (('time'), ozone_data)},\n",
    "        coords={\n",
    "            'time': da_transposed.time,\n",
    "            'latitude': ('time', da_transposed.latitude.data),\n",
    "            'longitude': ('time', da_transposed.longitude.data),\n",
    "        }\n",
    "    )\n",
    "\n",
    "def latlon_to_cartesian_vectorized(lat, lon):\n",
    "    \"\"\"Vectorized cartesian conversion with float32\"\"\"\n",
    "    lat_rad = np.deg2rad(lat.astype(np.float32))\n",
    "    lon_rad = np.deg2rad(lon.astype(np.float32))\n",
    "    cos_lat = np.cos(lat_rad)\n",
    "    \n",
    "    return np.column_stack([\n",
    "        cos_lat * np.cos(lon_rad),\n",
    "        cos_lat * np.sin(lon_rad),\n",
    "        np.sin(lat_rad)\n",
    "    ]).astype(np.float32)\n",
    "\n",
    "def compute_diffs(o3L, o3S):\n",
    "    \"\"\"Vectorized relative, absolute and raw difference computation\"\"\"\n",
    "    sum_vals = o3L + o3S\n",
    "    diff_vals = o3L - o3S\n",
    "    return 200 * (diff_vals / sum_vals), np.abs(diff_vals), diff_vals"
   ]
  },
  {
   "cell_type": "code",
   "execution_count": 105,
   "id": "57a46f51",
   "metadata": {},
   "outputs": [],
   "source": [
    "sys.path.extend([\n",
    "    r\"C:\\Users\\salla\\Onedrive(uoft acc)\\OneDrive - University of Toronto\\Desktop\\School Information\\NSERC\\OSIRIS\",\n",
    "    r\"C:\\Users\\salla\\Onedrive(uoft acc)\\OneDrive - University of Toronto\\Desktop\\School Information\\NSERC\\ACEFTS\"\n",
    "])\n",
    "\n",
    "import OSIRIS_helper as OSIRIS\n",
    "import ACEFTS_helper as ACE"
   ]
  },
  {
   "cell_type": "code",
   "execution_count": 106,
   "id": "ba6b0e24",
   "metadata": {},
   "outputs": [],
   "source": [
    "daL = OSIRIS.get_column_DU(ALT_MIN, ALT_MAX)\n",
    "daS = ACE.get_column_DU(ALT_MIN, ALT_MAX)\n",
    "\n",
    "dsL = wrap_o3_efficient(daL)\n",
    "dsS = wrap_o3_efficient(daS)"
   ]
  },
  {
   "cell_type": "code",
   "execution_count": 107,
   "id": "42eb7919",
   "metadata": {},
   "outputs": [
    {
     "name": "stderr",
     "output_type": "stream",
     "text": [
      "C:\\Users\\salla\\AppData\\Roaming\\Python\\Python312\\site-packages\\distributed\\node.py:187: UserWarning: Port 8787 is already in use.\n",
      "Perhaps you already have a cluster running?\n",
      "Hosting the HTTP server on port 53765 instead\n",
      "  warnings.warn(\n"
     ]
    },
    {
     "name": "stderr",
     "output_type": "stream",
     "text": [
      "Task exception was never retrieved\n",
      "future: <Task finished name='Task-1023227' coro=<Client._gather.<locals>.wait() done, defined at C:\\Users\\salla\\AppData\\Roaming\\Python\\Python312\\site-packages\\distributed\\client.py:2377> exception=AllExit()>\n",
      "Traceback (most recent call last):\n",
      "  File \"C:\\Users\\salla\\AppData\\Roaming\\Python\\Python312\\site-packages\\distributed\\client.py\", line 2386, in wait\n",
      "    raise AllExit()\n",
      "distributed.client.AllExit\n"
     ]
    }
   ],
   "source": [
    "cluster = LocalCluster(\n",
    "    n_workers=2,\n",
    "    threads_per_worker=2,\n",
    "    memory_limit='3GB',\n",
    "    processes=False,\n",
    "    dashboard_address=None\n",
    ")\n",
    "client = Client(cluster)\n"
   ]
  },
  {
   "cell_type": "code",
   "execution_count": null,
   "id": "ff73bdf2",
   "metadata": {},
   "outputs": [],
   "source": [
    "o3L_arr = daL.values.astype(np.float32)\n",
    "o3S_arr = daS.values.astype(np.float32)"
   ]
  },
  {
   "cell_type": "code",
   "execution_count": null,
   "id": "99d74945",
   "metadata": {},
   "outputs": [
    {
     "ename": "NameError",
     "evalue": "name 'dsL' is not defined",
     "output_type": "error",
     "traceback": [
      "\u001b[31m---------------------------------------------------------------------------\u001b[39m",
      "\u001b[31mNameError\u001b[39m                                 Traceback (most recent call last)",
      "\u001b[36mCell\u001b[39m\u001b[36m \u001b[39m\u001b[32mIn[101]\u001b[39m\u001b[32m, line 1\u001b[39m\n\u001b[32m----> \u001b[39m\u001b[32m1\u001b[39m tL = \u001b[43mdsL\u001b[49m.time.values.astype(\u001b[33m'\u001b[39m\u001b[33mdatetime64[ns]\u001b[39m\u001b[33m'\u001b[39m)\n\u001b[32m      2\u001b[39m tS = dsS.time.values.astype(\u001b[33m'\u001b[39m\u001b[33mdatetime64[ns]\u001b[39m\u001b[33m'\u001b[39m)\n\u001b[32m      3\u001b[39m latL = dsL.latitude.values\n",
      "\u001b[31mNameError\u001b[39m: name 'dsL' is not defined"
     ]
    }
   ],
   "source": [
    "tL = dsL.time.values.astype('datetime64[ns]')\n",
    "tS = dsS.time.values.astype('datetime64[ns]')\n",
    "latL = dsL.latitude.values\n",
    "lonL = dsL.longitude.values\n",
    "latS = dsS.latitude.values\n",
    "lonS = dsS.longitude.values\n",
    "\n",
    "# Pre-filter L points by time\n",
    "print(\"Pre-filtering OSIRIS points by time...\")\n",
    "tS_min = tS.min() - TIME_TOL\n",
    "tS_max = tS.max() + TIME_TOL\n",
    "time_mask = (tL >= tS_min) & (tL <= tS_max)\n",
    "tL_filtered = tL[time_mask]\n",
    "o3L_arr_filtered = o3L_arr[time_mask]\n",
    "latL_filtered = latL[time_mask]\n",
    "lonL_filtered = lonL[time_mask]\n",
    "# Cleanup memory\n",
    "del dsL, dsS, o3L_arr, latL, lonL\n",
    "gc.collect()"
   ]
  },
  {
   "cell_type": "code",
   "execution_count": null,
   "id": "ac2185e0",
   "metadata": {},
   "outputs": [
    {
     "data": {
      "text/plain": [
       "250"
      ]
     },
     "execution_count": 93,
     "metadata": {},
     "output_type": "execute_result"
    }
   ],
   "source": [
    "xyzL = latlon_to_cartesian_vectorized(latL_filtered, lonL_filtered)\n",
    "xyzS = latlon_to_cartesian_vectorized(latS, lonS)\n",
    "\n",
    "treeL = cKDTree(xyzL, leafsize=100)\n",
    "\n",
    "# Cleanup position arrays\n",
    "del latL_filtered, lonL_filtered, latS, lonS\n",
    "gc.collect()"
   ]
  },
  {
   "cell_type": "code",
   "execution_count": null,
   "id": "d3ab1b33",
   "metadata": {},
   "outputs": [
    {
     "name": "stdout",
     "output_type": "stream",
     "text": [
      "Finding spatio-temporal pairs and computing differences...\n"
     ]
    },
    {
     "ename": "NameError",
     "evalue": "name 'o3L_arr' is not defined",
     "output_type": "error",
     "traceback": [
      "\u001b[31m---------------------------------------------------------------------------\u001b[39m",
      "\u001b[31mNameError\u001b[39m                                 Traceback (most recent call last)",
      "\u001b[36mCell\u001b[39m\u001b[36m \u001b[39m\u001b[32mIn[94]\u001b[39m\u001b[32m, line 60\u001b[39m\n\u001b[32m     57\u001b[39m         all_L_indices.append(best_L_index)\n\u001b[32m     58\u001b[39m         all_S_indices.append(j)\n\u001b[32m---> \u001b[39m\u001b[32m60\u001b[39m         coincedences.append((o3S_chunk[j], \u001b[43mo3L_arr\u001b[49m[best_L_index]))\n\u001b[32m     61\u001b[39m \u001b[38;5;66;03m# Process valid pairs in batch\u001b[39;00m\n\u001b[32m     62\u001b[39m \u001b[38;5;28;01mif\u001b[39;00m all_L_indices:\n",
      "\u001b[31mNameError\u001b[39m: name 'o3L_arr' is not defined"
     ]
    }
   ],
   "source": [
    "print(\"Finding spatio-temporal pairs and computing differences...\")\n",
    "nS = len(xyzS)\n",
    "processed_pairs = 0\n",
    "coincedences = []\n",
    "n_alt = len(ALT_GRID)\n",
    "\n",
    "stats = {\n",
    "    'rel': [],\n",
    "    'abs': [],\n",
    "    'raw': []\n",
    "}\n",
    "\n",
    "for start_idx in range(0, nS, CHUNK_SIZE_S_PROCESS):\n",
    "    end_idx = min(start_idx + CHUNK_SIZE_S_PROCESS, nS)\n",
    "    xyzS_chunk = xyzS[start_idx:end_idx]\n",
    "    tS_chunk = tS[start_idx:end_idx]\n",
    "    o3S_chunk = o3S_arr[start_idx:end_idx]\n",
    "    \n",
    "    # Query spatial neighbors\n",
    "    neighbors = treeL.query_ball_point(\n",
    "        xyzS_chunk, \n",
    "        r=CHORDAL_DIST,\n",
    "        workers=1,\n",
    "        return_sorted=True\n",
    "    )\n",
    "    \n",
    "    # Pre-allocate arrays for batch processing\n",
    "    all_L_indices = []\n",
    "    all_S_indices = []\n",
    "    \n",
    "    \n",
    "        # Collect valid pairs\n",
    "    for j, nbrs in enumerate(neighbors):\n",
    "        if not nbrs:\n",
    "            continue\n",
    "            \n",
    "        s_idx_global = start_idx + j\n",
    "        time_diffs = np.abs(tL_filtered[nbrs] - tS_chunk[j])\n",
    "        time_mask = time_diffs <= TIME_TOL\n",
    "        valid_nbrs = np.array(nbrs)[time_mask]\n",
    "        # finding the closest in time, then also do one for distance\n",
    "        # if valid_nbrs.size != 0:\n",
    "        #     valid_time_diffs = valid_nbrs[np.argmin(time_diffs[time_mask])]\n",
    "        #     all_L_indices.append(valid_time_diffs)\n",
    "        #     all_S_indices.append(j)\n",
    "        # finding the closest in time, then also do one for distance\n",
    "\n",
    "        if valid_nbrs.size != 0:\n",
    "            s_point = xyzS[s_idx_global]\n",
    "            \n",
    "            deltas = xyzL[valid_nbrs] - s_point\n",
    "            dist_sq = np.sum(deltas**2, axis=1)\n",
    "\n",
    "            best_idx = np.argmin(dist_sq)\n",
    "            best_L_index = valid_nbrs[best_idx]\n",
    "            \n",
    "            all_L_indices.append(best_L_index)\n",
    "            all_S_indices.append(j)\n",
    "\n",
    "            coincedences.append((o3S_chunk[j], o3L_arr[best_L_index]))\n",
    "    # Process valid pairs in batch\n",
    "    if all_L_indices:\n",
    "        all_L_indices = np.array(all_L_indices)\n",
    "        all_S_indices = np.array(all_S_indices)\n",
    "        \n",
    "        # Get ozone data in bulk\n",
    "        o3L_vals = o3L_arr_filtered[all_L_indices]\n",
    "        o3S_vals = o3S_chunk[all_S_indices]\n",
    "        \n",
    "        # Compute various statistics\n",
    "        rel_diffs, abs_diffs, raw_diffs = compute_diffs(o3L_vals, o3S_vals)\n",
    "        \n",
    "        for dtype, diff_array in zip(['rel', 'abs', 'raw'], \n",
    "                                    [rel_diffs, abs_diffs, raw_diffs]):\n",
    "            valid_mask = ~np.isnan(diff_array)\n",
    "                \n",
    "            if np.any(valid_mask):\n",
    "                valid_diffs = diff_array[valid_mask]                \n",
    "                stats[dtype].extend(valid_diffs)\n",
    "    \n",
    "    # Progress reporting\n",
    "    processed_pairs += len(all_L_indices) if len(all_L_indices) > 0 else 0\n",
    "    if start_idx % (CHUNK_SIZE_S_PROCESS * 10) == 0:\n",
    "        print(f\"Processed {end_idx}/{nS} ACE-FTS points, {processed_pairs} pairs...\")\n",
    "        gc.collect()"
   ]
  },
  {
   "cell_type": "code",
   "execution_count": null,
   "id": "92303202",
   "metadata": {},
   "outputs": [
    {
     "data": {
      "text/plain": [
       "<matplotlib.collections.PathCollection at 0x172e8bc1d30>"
      ]
     },
     "execution_count": 83,
     "metadata": {},
     "output_type": "execute_result"
    },
    {
     "data": {
      "image/png": "[encoded data removed]",
      "text/plain": [
       "<Figure size 640x480 with 1 Axes>"
      ]
     },
     "metadata": {},
     "output_type": "display_data"
    }
   ],
   "source": [
    "plt.scatter(range(len(stats[\"raw\"])), stats[\"raw\"])"
   ]
  },
  {
   "cell_type": "code",
   "execution_count": null,
   "id": "a5b12c09",
   "metadata": {},
   "outputs": [
    {
     "name": "stdout",
     "output_type": "stream",
     "text": [
      "Cleaning up resources...\n",
      "Dask cluster closed successfully!\n",
      "Memory cleanup completed!\n"
     ]
    }
   ],
   "source": [
    "print(\"Cleaning up resources...\")\n",
    "try:\n",
    "    client.close()\n",
    "    cluster.close()\n",
    "    print(\"Dask cluster closed successfully!\")\n",
    "except:\n",
    "    print(\"Note: Dask cluster may have already been closed\")\n",
    "\n",
    "gc.collect()\n",
    "print(\"Memory cleanup completed!\")"
   ]
  },
  {
   "cell_type": "code",
   "execution_count": null,
   "id": "6ccca41d",
   "metadata": {},
   "outputs": [],
   "source": []
  }
 ],
 "metadata": {
  "kernelspec": {
   "display_name": "Python 3",
   "language": "python",
   "name": "python3"
  },
  "language_info": {
   "name": "python",
   "version": "3.12.5"
  }
 },
 "nbformat": 4,
 "nbformat_minor": 5
}
