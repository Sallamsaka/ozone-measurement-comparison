{
 "cells": [
  {
   "cell_type": "code",
   "execution_count": 1,
   "id": "ff281bcf",
   "metadata": {},
   "outputs": [],
   "source": [
    "import numpy as np\n",
    "import xarray as xr\n",
    "from scipy.spatial import cKDTree\n",
    "import dask.array as da\n",
    "from dask.distributed import Client, LocalCluster\n",
    "import gc\n",
    "import sys\n",
    "from matplotlib import pyplot as plt"
   ]
  },
  {
   "cell_type": "code",
   "execution_count": 2,
   "id": "1450e24c",
   "metadata": {},
   "outputs": [],
   "source": [
    "EARTH_RADIUS_KM = 6371.0\n",
    "MAX_DIST_KM = 500\n",
    "TIME_TOL_HOURS = 2\n",
    "ALT_MIN, ALT_MAX = 0.5, 64.5  # Updated range\n",
    "ALT_GRID = np.arange(ALT_MIN, ALT_MAX + 1, dtype=np.float32)\n",
    "CHORDAL_DIST = 2 * np.sin(MAX_DIST_KM / (2 * EARTH_RADIUS_KM))\n",
    "TIME_TOL = np.timedelta64(TIME_TOL_HOURS, 'h').astype('timedelta64[ns]')\n",
    "\n",
    "# Optimized chunk sizes\n",
    "CHUNK_SIZE_L = 50000\n",
    "CHUNK_SIZE_S = 25000\n",
    "CHUNK_SIZE_S_PROCESS = 2000\n",
    "BATCH_SIZE = 10000"
   ]
  },
  {
   "cell_type": "code",
   "execution_count": 3,
   "id": "70d4e631",
   "metadata": {},
   "outputs": [],
   "source": [
    "def wrap_o3_efficient(da_o3):\n",
    "    \"\"\"Efficient wrapping with optimized chunking\"\"\"\n",
    "    da_transposed = da_o3.transpose('time', 'altitude')\n",
    "    n_time = da_transposed.sizes['time']\n",
    "    n_alt = da_transposed.sizes['altitude']\n",
    "    \n",
    "    time_chunks = CHUNK_SIZE_L if n_time > 500000 else CHUNK_SIZE_S\n",
    "    alt_chunks = min(32, n_alt)\n",
    "    \n",
    "    if isinstance(da_transposed.data, da.Array):\n",
    "        ozone_data = da_transposed.data.rechunk((time_chunks, alt_chunks))\n",
    "    else:\n",
    "        ozone_data = da.from_array(da_transposed.data, chunks=(time_chunks, alt_chunks))\n",
    "    \n",
    "    return xr.Dataset(\n",
    "        {'ozone': (('time', 'alt'), ozone_data)},\n",
    "        coords={\n",
    "            'time': da_transposed.time,\n",
    "            'alt': da_transposed.altitude,\n",
    "            'latitude': ('time', da_transposed.latitude.data),\n",
    "            'longitude': ('time', da_transposed.longitude.data),\n",
    "        }\n",
    "    )\n",
    "\n",
    "def latlon_to_cartesian_vectorized(lat, lon):\n",
    "    \"\"\"Vectorized cartesian conversion with float32\"\"\"\n",
    "    lat_rad = np.deg2rad(lat.astype(np.float32))\n",
    "    lon_rad = np.deg2rad(lon.astype(np.float32))\n",
    "    cos_lat = np.cos(lat_rad)\n",
    "    \n",
    "    return np.column_stack([\n",
    "        cos_lat * np.cos(lon_rad),\n",
    "        cos_lat * np.sin(lon_rad),\n",
    "        np.sin(lat_rad)\n",
    "    ]).astype(np.float32)\n",
    "\n",
    "def compute_diffs(o3L, o3S):\n",
    "    \"\"\"Vectorized relative, absolute and raw difference computation\"\"\"\n",
    "    sum_vals = o3L + o3S\n",
    "    diff_vals = o3L - o3S\n",
    "    return 200 * (diff_vals / sum_vals), np.abs(diff_vals), diff_vals"
   ]
  },
  {
   "cell_type": "code",
   "execution_count": 4,
   "id": "102f7f22",
   "metadata": {},
   "outputs": [],
   "source": [
    "sys.path.extend([\n",
    "    r\"C:\\Users\\salla\\Onedrive(uoft acc)\\OneDrive - University of Toronto\\Desktop\\School Information\\NSERC\\OSIRIS\",\n",
    "    r\"C:\\Users\\salla\\Onedrive(uoft acc)\\OneDrive - University of Toronto\\Desktop\\School Information\\NSERC\\ACEFTS\"\n",
    "])\n",
    "\n",
    "import OSIRIS_helper as OSIRIS\n",
    "import ACEFTS_helper as ACE"
   ]
  },
  {
   "cell_type": "code",
   "execution_count": 5,
   "id": "05abf7d9",
   "metadata": {},
   "outputs": [],
   "source": [
    "daL = OSIRIS.get_vmr()\n",
    "daS = ACE.get_vmr()"
   ]
  },
  {
   "cell_type": "code",
   "execution_count": 6,
   "id": "8b8c4de6",
   "metadata": {},
   "outputs": [
    {
     "name": "stdout",
     "output_type": "stream",
     "text": [
      "Selecting common altitude range...\n",
      "Wrapping datasets with optimized chunking...\n"
     ]
    }
   ],
   "source": [
    "print(\"Selecting common altitude range...\")\n",
    "daL = daL.sel(altitude=slice(ALT_MIN, ALT_MAX))\n",
    "daS = daS.sel(altitude=slice(ALT_MIN, ALT_MAX))\n",
    "\n",
    "print(\"Wrapping datasets with optimized chunking...\")\n",
    "dsL = wrap_o3_efficient(daL)\n",
    "dsS = wrap_o3_efficient(daS)"
   ]
  },
  {
   "cell_type": "code",
   "execution_count": 7,
   "id": "bd5348c9",
   "metadata": {},
   "outputs": [],
   "source": [
    "cluster = LocalCluster(\n",
    "    n_workers=2,\n",
    "    threads_per_worker=2,\n",
    "    memory_limit='3GB',\n",
    "    processes=False,\n",
    "    dashboard_address=None\n",
    ")\n",
    "client = Client(cluster)\n"
   ]
  },
  {
   "cell_type": "code",
   "execution_count": 8,
   "id": "282fa80b",
   "metadata": {},
   "outputs": [
    {
     "name": "stderr",
     "output_type": "stream",
     "text": [
      "C:\\Users\\salla\\AppData\\Roaming\\Python\\Python312\\site-packages\\distributed\\client.py:3363: UserWarning: Sending large graph of size 32.75 MiB.\n",
      "This may cause some slowdown.\n",
      "Consider loading the data with Dask directly\n",
      " or using futures or delayed objects to embed the data into the graph without repetition.\n",
      "See also https://docs.dask.org/en/stable/best-practices.html#load-data-with-dask for more information.\n",
      "  warnings.warn(\n"
     ]
    },
    {
     "name": "stdout",
     "output_type": "stream",
     "text": [
      "Pre-filtering OSIRIS points by time...\n"
     ]
    },
    {
     "data": {
      "text/plain": [
       "8456"
      ]
     },
     "execution_count": 8,
     "metadata": {},
     "output_type": "execute_result"
    }
   ],
   "source": [
    "o3L_arr = dsL.ozone.values.astype(np.float32)\n",
    "o3S_arr = dsS.ozone.values.astype(np.float32)\n",
    "tL = dsL.time.values.astype('datetime64[ns]')\n",
    "tS = dsS.time.values.astype('datetime64[ns]')\n",
    "latL = dsL.latitude.values\n",
    "lonL = dsL.longitude.values\n",
    "latS = dsS.latitude.values\n",
    "lonS = dsS.longitude.values\n",
    "\n",
    "# Pre-filter L points by time\n",
    "print(\"Pre-filtering OSIRIS points by time...\")\n",
    "tS_min = tS.min() - TIME_TOL\n",
    "tS_max = tS.max() + TIME_TOL\n",
    "time_mask = (tL >= tS_min) & (tL <= tS_max)\n",
    "tL_filtered = tL[time_mask]\n",
    "o3L_arr_filtered = o3L_arr[time_mask]\n",
    "latL_filtered = latL[time_mask]\n",
    "lonL_filtered = lonL[time_mask]\n",
    "# Cleanup memory\n",
    "del dsL, dsS, o3L_arr, latL, lonL\n",
    "gc.collect()"
   ]
  },
  {
   "cell_type": "code",
   "execution_count": 9,
   "id": "48baec58",
   "metadata": {},
   "outputs": [
    {
     "data": {
      "text/plain": [
       "178"
      ]
     },
     "execution_count": 9,
     "metadata": {},
     "output_type": "execute_result"
    }
   ],
   "source": [
    "xyzL = latlon_to_cartesian_vectorized(latL_filtered, lonL_filtered)\n",
    "xyzS = latlon_to_cartesian_vectorized(latS, lonS)\n",
    "\n",
    "treeL = cKDTree(xyzL, leafsize=100)\n",
    "\n",
    "# Cleanup position arrays\n",
    "del latL_filtered, lonL_filtered, latS, lonS\n",
    "gc.collect()"
   ]
  },
  {
   "cell_type": "code",
   "execution_count": 16,
   "id": "ceba9c2a",
   "metadata": {},
   "outputs": [],
   "source": [
    "for i in range(len(tS)):\n",
    "    # measurement_time = tS[i]\n",
    "    # valid_time = np.where(tS[tS == measurement_time])\n",
    "    valid_L_idx = np.where((tL>=tS[i]-TIME_TOL) & (tL<=tS[i]+TIME_TOL))"
   ]
  },
  {
   "cell_type": "code",
   "execution_count": 17,
   "id": "7a207ca2",
   "metadata": {},
   "outputs": [
    {
     "name": "stdout",
     "output_type": "stream",
     "text": [
      "Finding spatio-temporal pairs and computing differences...\n",
      "Processed 2000/132071 ACE-FTS points, 198 pairs...\n",
      "Processed 22000/132071 ACE-FTS points, 1885 pairs...\n",
      "Processed 42000/132071 ACE-FTS points, 3974 pairs...\n",
      "Processed 62000/132071 ACE-FTS points, 5211 pairs...\n",
      "Processed 82000/132071 ACE-FTS points, 5798 pairs...\n",
      "Processed 102000/132071 ACE-FTS points, 6191 pairs...\n",
      "Processed 122000/132071 ACE-FTS points, 6504 pairs...\n"
     ]
    }
   ],
   "source": [
    "print(\"Finding spatio-temporal pairs and computing differences...\")\n",
    "nS = len(xyzS)\n",
    "processed_pairs = 0\n",
    "coincedences = []\n",
    "n_alt = len(ALT_GRID)\n",
    "\n",
    "stats = {\n",
    "    'rel': {'sum': np.zeros(n_alt), 'sum_sq': np.zeros(n_alt), 'count': np.zeros(n_alt)},\n",
    "    'abs': {'sum': np.zeros(n_alt), 'sum_sq': np.zeros(n_alt), 'count': np.zeros(n_alt)},\n",
    "    'raw': {'sum': np.zeros(n_alt), 'sum_sq': np.zeros(n_alt), 'count': np.zeros(n_alt)}\n",
    "}\n",
    "\n",
    "for start_idx in range(0, nS, CHUNK_SIZE_S_PROCESS):\n",
    "    end_idx = min(start_idx + CHUNK_SIZE_S_PROCESS, nS)\n",
    "    xyzS_chunk = xyzS[start_idx:end_idx]\n",
    "    tS_chunk = tS[start_idx:end_idx]\n",
    "    o3S_chunk = o3S_arr[start_idx:end_idx]\n",
    "    \n",
    "    # Query spatial neighbors\n",
    "    neighbors = treeL.query_ball_point(\n",
    "        xyzS_chunk, \n",
    "        r=CHORDAL_DIST,\n",
    "        workers=1,\n",
    "        return_sorted=True\n",
    "    )\n",
    "    \n",
    "    # Pre-allocate arrays for batch processing\n",
    "    all_L_indices = []\n",
    "    all_S_indices = []\n",
    "    \n",
    "    \n",
    "        # Collect valid pairs\n",
    "    for j, nbrs in enumerate(neighbors):\n",
    "        if not nbrs:\n",
    "            continue\n",
    "            \n",
    "        s_idx_global = start_idx + j\n",
    "        time_diffs = np.abs(tL_filtered[nbrs] - tS_chunk[j])\n",
    "        time_mask = time_diffs <= TIME_TOL\n",
    "        valid_nbrs = np.array(nbrs)[time_mask]\n",
    "        # finding the closest in time, then also do one for distance\n",
    "        # if valid_nbrs.size != 0:\n",
    "        #     valid_time_diffs = valid_nbrs[np.argmin(time_diffs[time_mask])]\n",
    "        #     all_L_indices.append(valid_time_diffs)\n",
    "        #     all_S_indices.append(j)\n",
    "        # finding the closest in time, then also do one for distance\n",
    "\n",
    "        if valid_nbrs.size != 0:\n",
    "            s_point = xyzS[s_idx_global]\n",
    "            \n",
    "            deltas = xyzL[valid_nbrs] - s_point\n",
    "            dist_sq = np.sum(deltas**2, axis=1)\n",
    "\n",
    "            best_idx = np.argmin(dist_sq)\n",
    "            best_L_index = valid_nbrs[best_idx]\n",
    "            \n",
    "            all_L_indices.append(best_L_index)\n",
    "            all_S_indices.append(j)\n",
    "    # Process valid pairs in batch\n",
    "    if all_L_indices:\n",
    "        all_L_indices = np.array(all_L_indices)\n",
    "        all_S_indices = np.array(all_S_indices)\n",
    "        \n",
    "        # Get ozone data in bulk\n",
    "        o3L_vals = o3L_arr_filtered[all_L_indices]\n",
    "        o3S_vals = o3S_chunk[all_S_indices]\n",
    "        \n",
    "        # Compute various statistics\n",
    "        rel_diffs, abs_diffs, raw_diffs = compute_diffs(o3L_vals, o3S_vals)\n",
    "        \n",
    "        for dtype, diff_array in zip(['rel', 'abs', 'raw'], \n",
    "                                    [rel_diffs, abs_diffs, raw_diffs]):\n",
    "            valid_mask = ~np.isnan(diff_array)\n",
    "            for alt_idx in range(n_alt):\n",
    "                col_diffs = diff_array[:, alt_idx]\n",
    "                col_valid = valid_mask[:, alt_idx]\n",
    "                \n",
    "                if np.any(col_valid):\n",
    "                    valid_diffs = col_diffs[col_valid]\n",
    "                    stats[dtype]['sum'][alt_idx] += np.sum(valid_diffs)\n",
    "                    stats[dtype]['sum_sq'][alt_idx] += np.sum(valid_diffs**2)\n",
    "                    stats[dtype]['count'][alt_idx] += len(valid_diffs)\n",
    "    \n",
    "    # Progress reporting\n",
    "    processed_pairs += len(all_L_indices) if len(all_L_indices) > 0 else 0\n",
    "    if start_idx % (CHUNK_SIZE_S_PROCESS * 10) == 0:\n",
    "        print(f\"Processed {end_idx}/{nS} ACE-FTS points, {processed_pairs} pairs...\")\n",
    "        gc.collect()"
   ]
  },
  {
   "cell_type": "code",
   "execution_count": 20,
   "id": "9e127285",
   "metadata": {},
   "outputs": [
    {
     "name": "stderr",
     "output_type": "stream",
     "text": [
      "C:\\Users\\salla\\AppData\\Local\\Temp\\ipykernel_9332\\4036536251.py:1: RuntimeWarning: invalid value encountered in divide\n",
      "  plt.scatter(np.arange(len(stats[\"rel\"][\"sum\"] / stats[\"rel\"][\"count\"])), (stats[\"rel\"][\"sum\"] / stats[\"rel\"][\"count\"]))\n"
     ]
    },
    {
     "data": {
      "text/plain": [
       "[<matplotlib.lines.Line2D at 0x1f926b5ef60>]"
      ]
     },
     "execution_count": 20,
     "metadata": {},
     "output_type": "execute_result"
    },
    {
     "data": {
      "image/png": "[encoded data removed]",
      "text/plain": [
       "<Figure size 640x480 with 1 Axes>"
      ]
     },
     "metadata": {},
     "output_type": "display_data"
    }
   ],
   "source": [
    "plt.scatter(np.arange(len(stats[\"rel\"][\"sum\"] / stats[\"rel\"][\"count\"])), (stats[\"rel\"][\"sum\"] / stats[\"rel\"][\"count\"]))\n",
    "plt.plot([0,60],[0,0])"
   ]
  },
  {
   "cell_type": "code",
   "execution_count": 19,
   "id": "feb5629f",
   "metadata": {},
   "outputs": [
    {
     "name": "stdout",
     "output_type": "stream",
     "text": [
      "Cleaning up resources...\n"
     ]
    },
    {
     "name": "stdout",
     "output_type": "stream",
     "text": [
      "Dask cluster closed successfully!\n",
      "Memory cleanup completed!\n"
     ]
    }
   ],
   "source": [
    "print(\"Cleaning up resources...\")\n",
    "try:\n",
    "    client.close()\n",
    "    cluster.close()\n",
    "    print(\"Dask cluster closed successfully!\")\n",
    "except:\n",
    "    print(\"Note: Dask cluster may have already been closed\")\n",
    "\n",
    "gc.collect()\n",
    "print(\"Memory cleanup completed!\")"
   ]
  },
  {
   "cell_type": "code",
   "execution_count": null,
   "id": "c2d84c4b",
   "metadata": {},
   "outputs": [],
   "source": []
  }
 ],
 "metadata": {
  "kernelspec": {
   "display_name": "Python 3",
   "language": "python",
   "name": "python3"
  },
  "language_info": {
   "codemirror_mode": {
    "name": "ipython",
    "version": 3
   },
   "file_extension": ".py",
   "mimetype": "text/x-python",
   "name": "python",
   "nbconvert_exporter": "python",
   "pygments_lexer": "ipython3",
   "version": "3.12.5"
  }
 },
 "nbformat": 4,
 "nbformat_minor": 5
}
